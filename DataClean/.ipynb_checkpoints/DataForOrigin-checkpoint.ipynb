{
 "cells": [
  {
   "cell_type": "code",
   "execution_count": 1,
   "id": "752c2111",
   "metadata": {},
   "outputs": [],
   "source": [
    "import pandas as pd"
   ]
  },
  {
   "cell_type": "code",
   "execution_count": 18,
   "id": "caaadcb4",
   "metadata": {},
   "outputs": [],
   "source": [
    "def reset_index(df):\n",
    "    df_index = pd.Index(range(df.shape[0]), dtype=\"int\")\n",
    "    df = df.set_index(df_index)\n",
    "    return df\n",
    "\n",
    "\n",
    "data_path = \"./data/raw_data.xlsx\"\n",
    "raw_data = pd.read_excel(data_path)\n",
    "data_groups = raw_data.groupby(\"Deposit type\")\n",
    "df = pd.DataFrame()\n",
    "\n",
    "for col in raw_data.columns[1:]:\n",
    "    for group_name, group_item in data_groups:\n",
    "        group_item = reset_index(group_item)\n",
    "        df = pd.concat([df, group_item[col]], axis=1)\n",
    "        \n",
    "df.to_csv(\"./output/data_4_origin_test.csv\", index=False)"
   ]
  },
  {
   "cell_type": "code",
   "execution_count": 24,
   "id": "43e5a0e6",
   "metadata": {},
   "outputs": [],
   "source": []
  }
 ],
 "metadata": {
  "kernelspec": {
   "display_name": "Python 3 (ipykernel)",
   "language": "python",
   "name": "python3"
  },
  "language_info": {
   "codemirror_mode": {
    "name": "ipython",
    "version": 3
   },
   "file_extension": ".py",
   "mimetype": "text/x-python",
   "name": "python",
   "nbconvert_exporter": "python",
   "pygments_lexer": "ipython3",
   "version": "3.11.3"
  }
 },
 "nbformat": 4,
 "nbformat_minor": 5
}
